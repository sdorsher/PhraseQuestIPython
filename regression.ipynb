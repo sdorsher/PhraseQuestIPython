{
 "cells": [
  {
   "cell_type": "code",
   "execution_count": 1,
   "metadata": {},
   "outputs": [],
   "source": [
    "#!/usr/bin/python\n",
    "import os, sys\n",
    "\n",
    "from sklearn.preprocessing import StandardScaler\n",
    "from sklearn.linear_model import SGDClassifier\n",
    "import matplotlib.cm as cm\n",
    "import matplotlib.pyplot as plt\n",
    "from sklearn.cluster import KMeans\n",
    "from scipy.stats import norm\n",
    "from scipy.optimize import curve_fit\n",
    "from scipy.stats import cauchy\n",
    "import numpy as np\n",
    "from io import StringIO\n",
    "import re\n",
    "\n"
   ]
  },
  {
   "cell_type": "code",
   "execution_count": 2,
   "metadata": {},
   "outputs": [],
   "source": [
    "trainingfile = open('training.dat.txt',\"r\")"
   ]
  },
  {
   "cell_type": "code",
   "execution_count": 3,
   "metadata": {},
   "outputs": [],
   "source": [
    "validationfile=open('validation.dat.txt',\"r\")"
   ]
  },
  {
   "cell_type": "code",
   "execution_count": 4,
   "metadata": {},
   "outputs": [],
   "source": [
    "def powerlaw(x,a,b,c):\n",
    "    return a*x**b+c"
   ]
  },
  {
   "cell_type": "code",
   "execution_count": 5,
   "metadata": {},
   "outputs": [],
   "source": [
    "def f5(x,a,b,c,d,g,h):\n",
    "    return a*x**5+b*x**4+c*x**3+d*x**2+g*x+h"
   ]
  },
  {
   "cell_type": "code",
   "execution_count": 6,
   "metadata": {},
   "outputs": [],
   "source": [
    "def f3(x,a,b,c,d):\n",
    "    return a*x**3+b*x**2+c*x+d"
   ]
  },
  {
   "cell_type": "code",
   "execution_count": 7,
   "metadata": {},
   "outputs": [],
   "source": [
    "def VowelToConsRatio(name):\n",
    "    \n",
    "    words = sum(c.isalpha() for c in name)\n",
    "    spaces = sum(c.isspace() for c in name)\n",
    "    others = len(name) - words - spaces\n",
    "    vowels = sum(map(name.lower().count, \"aeiou\"))\n",
    "    consonents = words - vowels\n",
    "\n",
    "\n",
    "    return float(vowels)/float(consonents), float(spaces)/float(consonents), float(others)/float(consonents)\n",
    "\n"
   ]
  },
  {
   "cell_type": "code",
   "execution_count": 8,
   "metadata": {},
   "outputs": [],
   "source": [
    "def AirportNameLetterFrequency(name):\n",
    "    \n",
    "    words = sum(c.isalpha() for c in name)\n",
    "    spaces = sum(c.isspace() for c in name)\n",
    "    others = len(name) - words - spaces\n",
    "    vowels = sum(map(name.lower().count, \"aeiou\"))\n",
    "    consonents = words - vowels\n",
    "    #put a one at the end to account for one airport in number totaled. will be normalized later\n",
    "\n",
    "    return [consonents, vowels, spaces, others, 1]\n",
    "\n"
   ]
  },
  {
   "cell_type": "code",
   "execution_count": 9,
   "metadata": {},
   "outputs": [],
   "source": [
    "def MergeCount(totalCount, thisCount):\n",
    "    totalCount2=totalCount+thisCount\n",
    "    return totalCount2\n",
    "\n",
    "#def CounttoHistograms(thisUSAcount, totalUSAcount, totalEnglandcount, totalTurkeycount, totalFrancecount, totalGermanycount, totalMexicocount, totalCanadacount)\n",
    "\n"
   ]
  },
  {
   "cell_type": "code",
   "execution_count": 10,
   "metadata": {},
   "outputs": [],
   "source": [
    "\n",
    "def inputdat(filename):\n",
    "    totalUSAcount=np.zeros(5)\n",
    "    totalChinacount=np.zeros(5)\n",
    "    totalEnglandcount=np.zeros(5)\n",
    "    totalFrancecount=np.zeros(5)\n",
    "    totalGermanycount=np.zeros(5)\n",
    "    totalMexicocount=np.zeros(5)\n",
    "    totalCanadacount=np.zeros(5)\n",
    "\n",
    "\n",
    "\n",
    "    #I picked some countries I have familiarity with so I know whether or not the data makes sense when I see it, sort of.\n",
    "\n",
    "    #what I want is the histogram of counts within each country to compare distributions between countries by eye. I can then look at a regression within the US by longitude and lattitude (actual distance from Chicago?) if it looks interesting\n",
    "\n",
    "    ratio=[]\n",
    "    coords=[]\n",
    "\n",
    "\n",
    "    for line in filename:\n",
    "        line=re.split(',',line);\n",
    "\n",
    "        if line[3] == \"\\\"China\\\"\":\n",
    "            thisratioV, thisratioS, thisratioO=VowelToConsRatio(line[1]);\n",
    "            ratio.append([thisratioV,thisratioS,thisratioO])\n",
    "            coords.append([float(line[6]),float(line[7])])\n",
    "        if line[3] == \"\\\"United States\\\"\":\n",
    "            thisratioV, thisratioS, thisratioO=VowelToConsRatio(line[1]);\n",
    "            ratio.append([thisratioV,thisratioS,thisratioO])\n",
    "            coords.append([float(line[6]),float(line[7])])\n",
    "        if line[3] == \"\\\"United Kingdom\\\"\":\n",
    "            thisratioV, thisratioS, thisratioO=VowelToConsRatio(line[1]);\n",
    "            ratio.append([thisratioV,thisratioS,thisratioO])\n",
    "            coords.append([float(line[6]),float(line[7])])\n",
    "        if line[3] == \"\\\"France\\\"\":\n",
    "            thisratioV, thisratioS, thisratioO=VowelToConsRatio(line[1]);\n",
    "            ratio.append([thisratioV,thisratioS,thisratioO])\n",
    "            coords.append([float(line[6]),float(line[7])])\n",
    "    \n",
    "        if line[3] == \"\\\"Germany\\\"\":#\n",
    "            thisratioV, thisratioS, thisratioO=VowelToConsRatio(line[1]);\n",
    "            ratio.append([thisratioV,thisratioS,thisratioO])\n",
    "            coords.append([float(line[6]),float(line[7])])\n",
    "        if line[3] == \"\\\"Mexico\\\"\" :\n",
    "            thisratioV, thisratioS, thisratioO=VowelToConsRatio(line[1]);\n",
    "            ratio.append([thisratioV,thisratioS,thisratioO])\n",
    "            coords.append([float(line[6]),float(line[7])])\n",
    "        if line[3] == \"\\\"Canada\\\"\" :\n",
    "            thisratioV, thisratioS, thisratioO=VowelToConsRatio(line[1]);\n",
    "            ratio.append([thisratioV,thisratioS,thisratioO])\n",
    "            coords.append([float(line[6]),float(line[7])])\n",
    "\n",
    "    ratioarray=np.asarray(ratio)\n",
    "    coordsarray=np.asarray(coords)\n",
    "    return ratioarray,coordsarray"
   ]
  },
  {
   "cell_type": "code",
   "execution_count": 11,
   "metadata": {},
   "outputs": [],
   "source": [
    "ratioarraytraining,coordsarraytraining=inputdat(trainingfile)"
   ]
  },
  {
   "cell_type": "code",
   "execution_count": 12,
   "metadata": {},
   "outputs": [],
   "source": [
    "ratioarrayvalidation,coordsarrayvalidation=inputdat(validationfile)"
   ]
  },
  {
   "cell_type": "code",
   "execution_count": 13,
   "metadata": {},
   "outputs": [
    {
     "name": "stdout",
     "output_type": "stream",
     "text": [
      "[[0.81818182 0.27272727 0.18181818]\n",
      " [0.5        0.25       0.25      ]\n",
      " [0.55555556 0.22222222 0.16666667]\n",
      " ...\n",
      " [0.5        0.1        0.2       ]\n",
      " [0.72727273 0.18181818 0.18181818]\n",
      " [0.5        0.14285714 0.14285714]]\n"
     ]
    }
   ],
   "source": [
    "print(ratioarraytraining)\n"
   ]
  },
  {
   "cell_type": "code",
   "execution_count": 14,
   "metadata": {},
   "outputs": [
    {
     "name": "stdout",
     "output_type": "stream",
     "text": [
      "[[ 46.48500061 -84.50939941]\n",
      " [ 50.0564003  -97.03250122]\n",
      " [ 44.63970184 -63.49940109]\n",
      " ...\n",
      " [ 42.9117012   90.24749756]\n",
      " [ 40.542524   122.3586    ]\n",
      " [ 41.78440094 123.4960022 ]]\n"
     ]
    }
   ],
   "source": [
    "\n",
    "print(coordsarraytraining)"
   ]
  },
  {
   "cell_type": "code",
   "execution_count": 15,
   "metadata": {},
   "outputs": [],
   "source": [
    "scaler = StandardScaler()\n",
    "trainingdat=scaler.fit_transform(ratioarraytraining)\n",
    "#StandardScaler(copy=True, with_mean=True, with_std=True)\n",
    "\n",
    "#trainingdat=scaler.transform(ratioarray)\n",
    "\n",
    "\n"
   ]
  },
  {
   "cell_type": "code",
   "execution_count": 16,
   "metadata": {},
   "outputs": [],
   "source": [
    "validationdat=scaler.transform(ratioarrayvalidation)"
   ]
  },
  {
   "cell_type": "code",
   "execution_count": 17,
   "metadata": {},
   "outputs": [
    {
     "name": "stdout",
     "output_type": "stream",
     "text": [
      "[[ 0.9186512   1.86058902 -0.10200686]\n",
      " [-1.3119613   1.47526403  0.75408923]\n",
      " [-0.92248928  1.00431127 -0.29225043]\n",
      " ...\n",
      " [-1.3119613  -1.06788089  0.12628543]\n",
      " [ 0.28133334  0.31928907 -0.10200686]\n",
      " [-1.3119613  -0.34126805 -0.59120462]]\n"
     ]
    }
   ],
   "source": [
    "print(trainingdat)"
   ]
  },
  {
   "cell_type": "code",
   "execution_count": 18,
   "metadata": {},
   "outputs": [
    {
     "name": "stdout",
     "output_type": "stream",
     "text": [
      "[[ 0.9186512   1.86058902 -0.10200686]\n",
      " [-1.3119613   1.47526403  0.75408923]\n",
      " [-0.92248928  1.00431127 -0.29225043]\n",
      " ...\n",
      " [-0.28100594  0.22862437 -0.90774435]\n",
      " [-1.04232682 -1.45913395 -0.45322576]\n",
      " [-0.14354523 -2.76331084  5.98578753]]\n"
     ]
    }
   ],
   "source": [
    "print(validationdat)"
   ]
  },
  {
   "cell_type": "code",
   "execution_count": 19,
   "metadata": {},
   "outputs": [],
   "source": [
    "from sklearn.preprocessing import Normalizer\n",
    "normalize=Normalizer()\n",
    "normcoordstraining=normalize.fit_transform(coordsarraytraining)\n",
    "normcoordsvalidation=normalize.transform(coordsarrayvalidation)"
   ]
  },
  {
   "cell_type": "code",
   "execution_count": 20,
   "metadata": {},
   "outputs": [
    {
     "name": "stdout",
     "output_type": "stream",
     "text": [
      "[[ 0.4819572  -0.87619476]\n",
      " [ 0.45846289 -0.88871355]\n",
      " [ 0.57510507 -0.81807956]\n",
      " ...\n",
      " [ 0.42941717  0.90310625]\n",
      " [ 0.31452588  0.9492489 ]\n",
      " [ 0.32049813  0.94724915]]\n"
     ]
    }
   ],
   "source": [
    "print(normcoordstraining)"
   ]
  },
  {
   "cell_type": "code",
   "execution_count": 21,
   "metadata": {},
   "outputs": [
    {
     "name": "stdout",
     "output_type": "stream",
     "text": [
      "[[ 0.4819572  -0.87619476]\n",
      " [ 0.45846289 -0.88871355]\n",
      " [ 0.57510507 -0.81807956]\n",
      " ...\n",
      " [ 0.36807466 -0.92979624]\n",
      " [ 0.99143483  0.13060239]\n",
      " [ 0.29492868 -0.95551927]]\n"
     ]
    }
   ],
   "source": [
    "print(normcoordsvalidation)"
   ]
  },
  {
   "cell_type": "code",
   "execution_count": 22,
   "metadata": {},
   "outputs": [
    {
     "data": {
      "text/plain": [
       "LinearRegression(copy_X=True, fit_intercept=True, n_jobs=None, normalize=False)"
      ]
     },
     "execution_count": 22,
     "metadata": {},
     "output_type": "execute_result"
    }
   ],
   "source": [
    "from sklearn.linear_model import LinearRegression\n",
    "regress=LinearRegression()\n",
    "regress.fit(ratioarraytraining,coordsarraytraining)"
   ]
  },
  {
   "cell_type": "code",
   "execution_count": 23,
   "metadata": {},
   "outputs": [],
   "source": [
    "predcoords=regress.predict(ratioarrayvalidation)"
   ]
  },
  {
   "cell_type": "code",
   "execution_count": 24,
   "metadata": {},
   "outputs": [],
   "source": [
    "from matplotlib import pyplot as plt\n"
   ]
  },
  {
   "cell_type": "code",
   "execution_count": 25,
   "metadata": {},
   "outputs": [
    {
     "data": {
      "image/png": "[encoded data removed]",
      "text/plain": [
       "<Figure size 432x288 with 1 Axes>"
      ]
     },
     "metadata": {
      "needs_background": "light"
     },
     "output_type": "display_data"
    }
   ],
   "source": [
    "plt.scatter(ratioarraytraining[:,0],coordsarraytraining[:,0],color='blue')\n",
    "plt.scatter(ratioarrayvalidation[:,0],predcoords[:,0], color='red')\n",
    "plt.ylabel('Longitude')\n",
    "plt.xlabel('Normalized vowel/consonet')\n",
    "plt.show()"
   ]
  },
  {
   "cell_type": "code",
   "execution_count": 26,
   "metadata": {},
   "outputs": [
    {
     "data": {
      "image/png": "[encoded data removed]",
      "text/plain": [
       "<Figure size 432x288 with 1 Axes>"
      ]
     },
     "metadata": {
      "needs_background": "light"
     },
     "output_type": "display_data"
    }
   ],
   "source": [
    "plt.scatter(ratioarraytraining[:,1],coordsarraytraining[:,0],color='blue')\n",
    "plt.scatter(ratioarrayvalidation[:,1],predcoords[:,0], color='red')\n",
    "plt.ylabel('Longitude')\n",
    "plt.xlabel('Normalized space/consonent')\n",
    "plt.show()"
   ]
  },
  {
   "cell_type": "code",
   "execution_count": 27,
   "metadata": {},
   "outputs": [
    {
     "data": {
      "image/png": "[encoded data removed]",
      "text/plain": [
       "<Figure size 432x288 with 1 Axes>"
      ]
     },
     "metadata": {
      "needs_background": "light"
     },
     "output_type": "display_data"
    }
   ],
   "source": [
    "plt.scatter(ratioarraytraining[:,2],coordsarraytraining[:,0],color='blue')\n",
    "plt.scatter(ratioarrayvalidation[:,2],predcoords[:,0], color='red')\n",
    "plt.ylabel('Longitude')\n",
    "plt.xlabel('Normalized symbol/consonent')\n",
    "plt.show()"
   ]
  },
  {
   "cell_type": "code",
   "execution_count": 28,
   "metadata": {},
   "outputs": [
    {
     "data": {
      "image/png": "[encoded data removed]",
      "text/plain": [
       "<Figure size 432x288 with 1 Axes>"
      ]
     },
     "metadata": {
      "needs_background": "light"
     },
     "output_type": "display_data"
    }
   ],
   "source": [
    "plt.scatter(ratioarraytraining[:,0],coordsarraytraining[:,1],color='blue')\n",
    "plt.scatter(ratioarrayvalidation[:,0],predcoords[:,1], color='red')\n",
    "plt.ylabel('Lattitude')\n",
    "plt.xlabel('Normalized vowel/consonent')\n",
    "plt.show()"
   ]
  },
  {
   "cell_type": "code",
   "execution_count": 29,
   "metadata": {},
   "outputs": [
    {
     "data": {
      "image/png": "[encoded data removed]",
      "text/plain": [
       "<Figure size 432x288 with 1 Axes>"
      ]
     },
     "metadata": {
      "needs_background": "light"
     },
     "output_type": "display_data"
    }
   ],
   "source": [
    "plt.scatter(ratioarraytraining[:,1],coordsarraytraining[:,1],color='blue')\n",
    "plt.scatter(ratioarrayvalidation[:,1],predcoords[:,1], color='red')\n",
    "plt.ylabel('Lattitude')\n",
    "plt.xlabel('Normalized space/consonent')\n",
    "plt.show()"
   ]
  },
  {
   "cell_type": "code",
   "execution_count": 30,
   "metadata": {},
   "outputs": [
    {
     "data": {
      "image/png": "[encoded data removed]",
      "text/plain": [
       "<Figure size 432x288 with 1 Axes>"
      ]
     },
     "metadata": {
      "needs_background": "light"
     },
     "output_type": "display_data"
    }
   ],
   "source": [
    "plt.scatter(ratioarraytraining[:,2],coordsarraytraining[:,1],color='blue')\n",
    "plt.scatter(ratioarrayvalidation[:,2],predcoords[:,1], color='red')\n",
    "plt.ylabel('Lattitude')\n",
    "plt.xlabel('Normalized symbol/consonent')\n",
    "plt.show()"
   ]
  },
  {
   "cell_type": "markdown",
   "metadata": {},
   "source": [
    "These are scatter plots. This method isn't working. Either there's a flaw in the technique, fundamentally, because the v/c, space/v and cymbol/c are only pdfs not one to one correlations, or there's a flaw in my processing of the data. I could try a neural network because perhaps the relationship is not one to one (three to two) or linear (demonstrated not to be linear). "
   ]
  },
  {
   "cell_type": "code",
   "execution_count": null,
   "metadata": {},
   "outputs": [],
   "source": []
  }
 ],
 "metadata": {
  "kernelspec": {
   "display_name": "Python 3",
   "language": "python",
   "name": "python3"
  },
  "language_info": {
   "codemirror_mode": {
    "name": "ipython",
    "version": 3
   },
   "file_extension": ".py",
   "mimetype": "text/x-python",
   "name": "python",
   "nbconvert_exporter": "python",
   "pygments_lexer": "ipython3",
   "version": "3.7.4"
  }
 },
 "nbformat": 4,
 "nbformat_minor": 2
}
